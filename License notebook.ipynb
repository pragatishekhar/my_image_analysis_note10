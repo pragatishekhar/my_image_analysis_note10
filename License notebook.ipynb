{
 "cells": [
  {
   "cell_type": "code",
   "execution_count": 1,
   "id": "68d9d460-1ce3-4386-8059-113b8ae592b7",
   "metadata": {},
   "outputs": [
    {
     "name": "stdout",
     "output_type": "stream",
     "text": [
      "fuck you Pragati! Maybe you should learn some better coding\n"
     ]
    }
   ],
   "source": [
    "print('fuck you Pragati! Maybe you should learn some better coding')"
   ]
  },
  {
   "cell_type": "code",
   "execution_count": null,
   "id": "319a4083-4c3c-49a3-951e-a69d8d71e794",
   "metadata": {},
   "outputs": [],
   "source": []
  }
 ],
 "metadata": {
  "kernelspec": {
   "display_name": "Python 3 (ipykernel)",
   "language": "python",
   "name": "python3"
  },
  "language_info": {
   "codemirror_mode": {
    "name": "ipython",
    "version": 3
   },
   "file_extension": ".py",
   "mimetype": "text/x-python",
   "name": "python",
   "nbconvert_exporter": "python",
   "pygments_lexer": "ipython3",
   "version": "3.9.13"
  }
 },
 "nbformat": 4,
 "nbformat_minor": 5
}
